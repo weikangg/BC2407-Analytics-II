{
 "cells": [
  {
   "cell_type": "code",
   "execution_count": 1,
   "id": "13d1500e",
   "metadata": {},
   "outputs": [],
   "source": [
    "import pandas as pd"
   ]
  },
  {
   "cell_type": "code",
   "execution_count": 2,
   "id": "72c08051",
   "metadata": {},
   "outputs": [],
   "source": [
    "df = pd.read_csv(r\"C:\\Users\\loysh\\OneDrive - Nanyang Technological University\\Desktop\\2022S1\\AIAccFi\\german_credit.csv\")"
   ]
  },
  {
   "cell_type": "code",
   "execution_count": 3,
   "id": "2527ff6c",
   "metadata": {},
   "outputs": [],
   "source": [
    "#y Creditability"
   ]
  },
  {
   "cell_type": "code",
   "execution_count": 4,
   "id": "869f2010",
   "metadata": {},
   "outputs": [
    {
     "data": {
      "text/html": [
       "<div>\n",
       "<style scoped>\n",
       "    .dataframe tbody tr th:only-of-type {\n",
       "        vertical-align: middle;\n",
       "    }\n",
       "\n",
       "    .dataframe tbody tr th {\n",
       "        vertical-align: top;\n",
       "    }\n",
       "\n",
       "    .dataframe thead th {\n",
       "        text-align: right;\n",
       "    }\n",
       "</style>\n",
       "<table border=\"1\" class=\"dataframe\">\n",
       "  <thead>\n",
       "    <tr style=\"text-align: right;\">\n",
       "      <th></th>\n",
       "      <th>Creditability</th>\n",
       "      <th>Account Balance</th>\n",
       "      <th>Duration of Credit Mths</th>\n",
       "      <th>Payment Status of Previous Credit</th>\n",
       "      <th>Purpose</th>\n",
       "      <th>Credit Amount</th>\n",
       "      <th>Value of Savings and Stocks</th>\n",
       "      <th>Length of current employment</th>\n",
       "      <th>Instalment per cent</th>\n",
       "      <th>Sex and Marital Status</th>\n",
       "      <th>...</th>\n",
       "      <th>Duration in Current address</th>\n",
       "      <th>Most valuable available asset</th>\n",
       "      <th>Age</th>\n",
       "      <th>Concurrent Credits</th>\n",
       "      <th>Type of apartment</th>\n",
       "      <th>No of Credits at this Bank</th>\n",
       "      <th>Occupation</th>\n",
       "      <th>No of dependents</th>\n",
       "      <th>Telephone</th>\n",
       "      <th>Foreign Worker</th>\n",
       "    </tr>\n",
       "  </thead>\n",
       "  <tbody>\n",
       "    <tr>\n",
       "      <th>0</th>\n",
       "      <td>1</td>\n",
       "      <td>1</td>\n",
       "      <td>18</td>\n",
       "      <td>4</td>\n",
       "      <td>2</td>\n",
       "      <td>1049</td>\n",
       "      <td>1</td>\n",
       "      <td>2</td>\n",
       "      <td>4</td>\n",
       "      <td>2</td>\n",
       "      <td>...</td>\n",
       "      <td>4</td>\n",
       "      <td>2</td>\n",
       "      <td>21</td>\n",
       "      <td>3</td>\n",
       "      <td>1</td>\n",
       "      <td>1</td>\n",
       "      <td>3</td>\n",
       "      <td>1</td>\n",
       "      <td>1</td>\n",
       "      <td>1</td>\n",
       "    </tr>\n",
       "    <tr>\n",
       "      <th>1</th>\n",
       "      <td>1</td>\n",
       "      <td>1</td>\n",
       "      <td>9</td>\n",
       "      <td>4</td>\n",
       "      <td>0</td>\n",
       "      <td>2799</td>\n",
       "      <td>1</td>\n",
       "      <td>3</td>\n",
       "      <td>2</td>\n",
       "      <td>3</td>\n",
       "      <td>...</td>\n",
       "      <td>2</td>\n",
       "      <td>1</td>\n",
       "      <td>36</td>\n",
       "      <td>3</td>\n",
       "      <td>1</td>\n",
       "      <td>2</td>\n",
       "      <td>3</td>\n",
       "      <td>2</td>\n",
       "      <td>1</td>\n",
       "      <td>1</td>\n",
       "    </tr>\n",
       "    <tr>\n",
       "      <th>2</th>\n",
       "      <td>1</td>\n",
       "      <td>2</td>\n",
       "      <td>12</td>\n",
       "      <td>2</td>\n",
       "      <td>9</td>\n",
       "      <td>841</td>\n",
       "      <td>2</td>\n",
       "      <td>4</td>\n",
       "      <td>2</td>\n",
       "      <td>2</td>\n",
       "      <td>...</td>\n",
       "      <td>4</td>\n",
       "      <td>1</td>\n",
       "      <td>23</td>\n",
       "      <td>3</td>\n",
       "      <td>1</td>\n",
       "      <td>1</td>\n",
       "      <td>2</td>\n",
       "      <td>1</td>\n",
       "      <td>1</td>\n",
       "      <td>1</td>\n",
       "    </tr>\n",
       "    <tr>\n",
       "      <th>3</th>\n",
       "      <td>1</td>\n",
       "      <td>1</td>\n",
       "      <td>12</td>\n",
       "      <td>4</td>\n",
       "      <td>0</td>\n",
       "      <td>2122</td>\n",
       "      <td>1</td>\n",
       "      <td>3</td>\n",
       "      <td>3</td>\n",
       "      <td>3</td>\n",
       "      <td>...</td>\n",
       "      <td>2</td>\n",
       "      <td>1</td>\n",
       "      <td>39</td>\n",
       "      <td>3</td>\n",
       "      <td>1</td>\n",
       "      <td>2</td>\n",
       "      <td>2</td>\n",
       "      <td>2</td>\n",
       "      <td>1</td>\n",
       "      <td>2</td>\n",
       "    </tr>\n",
       "    <tr>\n",
       "      <th>4</th>\n",
       "      <td>1</td>\n",
       "      <td>1</td>\n",
       "      <td>12</td>\n",
       "      <td>4</td>\n",
       "      <td>0</td>\n",
       "      <td>2171</td>\n",
       "      <td>1</td>\n",
       "      <td>3</td>\n",
       "      <td>4</td>\n",
       "      <td>3</td>\n",
       "      <td>...</td>\n",
       "      <td>4</td>\n",
       "      <td>2</td>\n",
       "      <td>38</td>\n",
       "      <td>1</td>\n",
       "      <td>2</td>\n",
       "      <td>2</td>\n",
       "      <td>2</td>\n",
       "      <td>1</td>\n",
       "      <td>1</td>\n",
       "      <td>2</td>\n",
       "    </tr>\n",
       "    <tr>\n",
       "      <th>...</th>\n",
       "      <td>...</td>\n",
       "      <td>...</td>\n",
       "      <td>...</td>\n",
       "      <td>...</td>\n",
       "      <td>...</td>\n",
       "      <td>...</td>\n",
       "      <td>...</td>\n",
       "      <td>...</td>\n",
       "      <td>...</td>\n",
       "      <td>...</td>\n",
       "      <td>...</td>\n",
       "      <td>...</td>\n",
       "      <td>...</td>\n",
       "      <td>...</td>\n",
       "      <td>...</td>\n",
       "      <td>...</td>\n",
       "      <td>...</td>\n",
       "      <td>...</td>\n",
       "      <td>...</td>\n",
       "      <td>...</td>\n",
       "      <td>...</td>\n",
       "    </tr>\n",
       "    <tr>\n",
       "      <th>995</th>\n",
       "      <td>0</td>\n",
       "      <td>1</td>\n",
       "      <td>24</td>\n",
       "      <td>2</td>\n",
       "      <td>3</td>\n",
       "      <td>1987</td>\n",
       "      <td>1</td>\n",
       "      <td>3</td>\n",
       "      <td>2</td>\n",
       "      <td>3</td>\n",
       "      <td>...</td>\n",
       "      <td>4</td>\n",
       "      <td>1</td>\n",
       "      <td>21</td>\n",
       "      <td>3</td>\n",
       "      <td>1</td>\n",
       "      <td>1</td>\n",
       "      <td>2</td>\n",
       "      <td>2</td>\n",
       "      <td>1</td>\n",
       "      <td>1</td>\n",
       "    </tr>\n",
       "    <tr>\n",
       "      <th>996</th>\n",
       "      <td>0</td>\n",
       "      <td>1</td>\n",
       "      <td>24</td>\n",
       "      <td>2</td>\n",
       "      <td>0</td>\n",
       "      <td>2303</td>\n",
       "      <td>1</td>\n",
       "      <td>5</td>\n",
       "      <td>4</td>\n",
       "      <td>3</td>\n",
       "      <td>...</td>\n",
       "      <td>1</td>\n",
       "      <td>1</td>\n",
       "      <td>45</td>\n",
       "      <td>3</td>\n",
       "      <td>2</td>\n",
       "      <td>1</td>\n",
       "      <td>3</td>\n",
       "      <td>1</td>\n",
       "      <td>1</td>\n",
       "      <td>1</td>\n",
       "    </tr>\n",
       "    <tr>\n",
       "      <th>997</th>\n",
       "      <td>0</td>\n",
       "      <td>4</td>\n",
       "      <td>21</td>\n",
       "      <td>4</td>\n",
       "      <td>0</td>\n",
       "      <td>12680</td>\n",
       "      <td>5</td>\n",
       "      <td>5</td>\n",
       "      <td>4</td>\n",
       "      <td>3</td>\n",
       "      <td>...</td>\n",
       "      <td>4</td>\n",
       "      <td>4</td>\n",
       "      <td>30</td>\n",
       "      <td>3</td>\n",
       "      <td>3</td>\n",
       "      <td>1</td>\n",
       "      <td>4</td>\n",
       "      <td>1</td>\n",
       "      <td>2</td>\n",
       "      <td>1</td>\n",
       "    </tr>\n",
       "    <tr>\n",
       "      <th>998</th>\n",
       "      <td>0</td>\n",
       "      <td>2</td>\n",
       "      <td>12</td>\n",
       "      <td>2</td>\n",
       "      <td>3</td>\n",
       "      <td>6468</td>\n",
       "      <td>5</td>\n",
       "      <td>1</td>\n",
       "      <td>2</td>\n",
       "      <td>3</td>\n",
       "      <td>...</td>\n",
       "      <td>1</td>\n",
       "      <td>4</td>\n",
       "      <td>52</td>\n",
       "      <td>3</td>\n",
       "      <td>2</td>\n",
       "      <td>1</td>\n",
       "      <td>4</td>\n",
       "      <td>1</td>\n",
       "      <td>2</td>\n",
       "      <td>1</td>\n",
       "    </tr>\n",
       "    <tr>\n",
       "      <th>999</th>\n",
       "      <td>0</td>\n",
       "      <td>1</td>\n",
       "      <td>30</td>\n",
       "      <td>2</td>\n",
       "      <td>2</td>\n",
       "      <td>6350</td>\n",
       "      <td>5</td>\n",
       "      <td>5</td>\n",
       "      <td>4</td>\n",
       "      <td>3</td>\n",
       "      <td>...</td>\n",
       "      <td>4</td>\n",
       "      <td>2</td>\n",
       "      <td>31</td>\n",
       "      <td>3</td>\n",
       "      <td>2</td>\n",
       "      <td>1</td>\n",
       "      <td>3</td>\n",
       "      <td>1</td>\n",
       "      <td>1</td>\n",
       "      <td>1</td>\n",
       "    </tr>\n",
       "  </tbody>\n",
       "</table>\n",
       "<p>1000 rows × 21 columns</p>\n",
       "</div>"
      ],
      "text/plain": [
       "     Creditability  Account Balance  Duration of Credit Mths  \\\n",
       "0                1                1                       18   \n",
       "1                1                1                        9   \n",
       "2                1                2                       12   \n",
       "3                1                1                       12   \n",
       "4                1                1                       12   \n",
       "..             ...              ...                      ...   \n",
       "995              0                1                       24   \n",
       "996              0                1                       24   \n",
       "997              0                4                       21   \n",
       "998              0                2                       12   \n",
       "999              0                1                       30   \n",
       "\n",
       "     Payment Status of Previous Credit  Purpose  Credit Amount  \\\n",
       "0                                    4        2           1049   \n",
       "1                                    4        0           2799   \n",
       "2                                    2        9            841   \n",
       "3                                    4        0           2122   \n",
       "4                                    4        0           2171   \n",
       "..                                 ...      ...            ...   \n",
       "995                                  2        3           1987   \n",
       "996                                  2        0           2303   \n",
       "997                                  4        0          12680   \n",
       "998                                  2        3           6468   \n",
       "999                                  2        2           6350   \n",
       "\n",
       "     Value of Savings and Stocks  Length of current employment  \\\n",
       "0                              1                             2   \n",
       "1                              1                             3   \n",
       "2                              2                             4   \n",
       "3                              1                             3   \n",
       "4                              1                             3   \n",
       "..                           ...                           ...   \n",
       "995                            1                             3   \n",
       "996                            1                             5   \n",
       "997                            5                             5   \n",
       "998                            5                             1   \n",
       "999                            5                             5   \n",
       "\n",
       "     Instalment per cent  Sex and Marital Status  ...  \\\n",
       "0                      4                       2  ...   \n",
       "1                      2                       3  ...   \n",
       "2                      2                       2  ...   \n",
       "3                      3                       3  ...   \n",
       "4                      4                       3  ...   \n",
       "..                   ...                     ...  ...   \n",
       "995                    2                       3  ...   \n",
       "996                    4                       3  ...   \n",
       "997                    4                       3  ...   \n",
       "998                    2                       3  ...   \n",
       "999                    4                       3  ...   \n",
       "\n",
       "     Duration in Current address  Most valuable available asset  Age  \\\n",
       "0                              4                              2   21   \n",
       "1                              2                              1   36   \n",
       "2                              4                              1   23   \n",
       "3                              2                              1   39   \n",
       "4                              4                              2   38   \n",
       "..                           ...                            ...  ...   \n",
       "995                            4                              1   21   \n",
       "996                            1                              1   45   \n",
       "997                            4                              4   30   \n",
       "998                            1                              4   52   \n",
       "999                            4                              2   31   \n",
       "\n",
       "     Concurrent Credits  Type of apartment  No of Credits at this Bank  \\\n",
       "0                     3                  1                           1   \n",
       "1                     3                  1                           2   \n",
       "2                     3                  1                           1   \n",
       "3                     3                  1                           2   \n",
       "4                     1                  2                           2   \n",
       "..                  ...                ...                         ...   \n",
       "995                   3                  1                           1   \n",
       "996                   3                  2                           1   \n",
       "997                   3                  3                           1   \n",
       "998                   3                  2                           1   \n",
       "999                   3                  2                           1   \n",
       "\n",
       "     Occupation  No of dependents  Telephone  Foreign Worker  \n",
       "0             3                 1          1               1  \n",
       "1             3                 2          1               1  \n",
       "2             2                 1          1               1  \n",
       "3             2                 2          1               2  \n",
       "4             2                 1          1               2  \n",
       "..          ...               ...        ...             ...  \n",
       "995           2                 2          1               1  \n",
       "996           3                 1          1               1  \n",
       "997           4                 1          2               1  \n",
       "998           4                 1          2               1  \n",
       "999           3                 1          1               1  \n",
       "\n",
       "[1000 rows x 21 columns]"
      ]
     },
     "execution_count": 4,
     "metadata": {},
     "output_type": "execute_result"
    }
   ],
   "source": [
    "df"
   ]
  },
  {
   "cell_type": "code",
   "execution_count": 5,
   "id": "4b50fd91",
   "metadata": {},
   "outputs": [],
   "source": [
    "X=df.drop(columns=\"Creditability\")\n",
    "Y=df[\"Creditability\"]"
   ]
  },
  {
   "cell_type": "code",
   "execution_count": 6,
   "id": "685c9170",
   "metadata": {},
   "outputs": [],
   "source": [
    "from sklearn.feature_selection import f_regression,SelectKBest"
   ]
  },
  {
   "cell_type": "code",
   "execution_count": 7,
   "id": "b56ae4fd",
   "metadata": {},
   "outputs": [],
   "source": [
    "f= SelectKBest(score_func=f_regression,k=10).fit(X,Y)"
   ]
  },
  {
   "cell_type": "code",
   "execution_count": 8,
   "id": "3713410c",
   "metadata": {},
   "outputs": [
    {
     "data": {
      "text/plain": [
       "array([ True,  True,  True, False,  True,  True,  True, False,  True,\n",
       "       False, False,  True,  True,  True, False, False, False, False,\n",
       "       False, False])"
      ]
     },
     "execution_count": 8,
     "metadata": {},
     "output_type": "execute_result"
    }
   ],
   "source": [
    "f= f.get_support()\n",
    "f"
   ]
  },
  {
   "cell_type": "code",
   "execution_count": 9,
   "id": "c476d60d",
   "metadata": {},
   "outputs": [
    {
     "data": {
      "text/plain": [
       "Index(['Account Balance', 'Duration of Credit Mths',\n",
       "       'Payment Status of Previous Credit', 'Credit Amount',\n",
       "       'Value of Savings and Stocks', 'Length of current employment',\n",
       "       'Sex and Marital Status', 'Most valuable available asset', 'Age',\n",
       "       'Concurrent Credits'],\n",
       "      dtype='object')"
      ]
     },
     "execution_count": 9,
     "metadata": {},
     "output_type": "execute_result"
    }
   ],
   "source": [
    "X.columns[f]"
   ]
  },
  {
   "cell_type": "code",
   "execution_count": 10,
   "id": "33c48b3e",
   "metadata": {},
   "outputs": [],
   "source": [
    "df = df.loc[:,['Account Balance', 'Duration of Credit Mths',\n",
    "       'Payment Status of Previous Credit', 'Credit Amount',\n",
    "       'Value of Savings and Stocks', 'Length of current employment',\n",
    "       'Sex and Marital Status', 'Most valuable available asset', 'Age',\n",
    "       'Concurrent Credits',\"Creditability\" ]]"
   ]
  },
  {
   "cell_type": "code",
   "execution_count": 11,
   "id": "65fde61b",
   "metadata": {},
   "outputs": [
    {
     "data": {
      "text/html": [
       "<div>\n",
       "<style scoped>\n",
       "    .dataframe tbody tr th:only-of-type {\n",
       "        vertical-align: middle;\n",
       "    }\n",
       "\n",
       "    .dataframe tbody tr th {\n",
       "        vertical-align: top;\n",
       "    }\n",
       "\n",
       "    .dataframe thead th {\n",
       "        text-align: right;\n",
       "    }\n",
       "</style>\n",
       "<table border=\"1\" class=\"dataframe\">\n",
       "  <thead>\n",
       "    <tr style=\"text-align: right;\">\n",
       "      <th></th>\n",
       "      <th>Account Balance</th>\n",
       "      <th>Duration of Credit Mths</th>\n",
       "      <th>Payment Status of Previous Credit</th>\n",
       "      <th>Credit Amount</th>\n",
       "      <th>Value of Savings and Stocks</th>\n",
       "      <th>Length of current employment</th>\n",
       "      <th>Sex and Marital Status</th>\n",
       "      <th>Most valuable available asset</th>\n",
       "      <th>Age</th>\n",
       "      <th>Concurrent Credits</th>\n",
       "      <th>Creditability</th>\n",
       "    </tr>\n",
       "  </thead>\n",
       "  <tbody>\n",
       "    <tr>\n",
       "      <th>count</th>\n",
       "      <td>1000.000000</td>\n",
       "      <td>1000.000000</td>\n",
       "      <td>1000.00000</td>\n",
       "      <td>1000.00000</td>\n",
       "      <td>1000.000000</td>\n",
       "      <td>1000.000000</td>\n",
       "      <td>1000.00000</td>\n",
       "      <td>1000.000000</td>\n",
       "      <td>1000.00000</td>\n",
       "      <td>1000.000000</td>\n",
       "      <td>1000.000000</td>\n",
       "    </tr>\n",
       "    <tr>\n",
       "      <th>mean</th>\n",
       "      <td>2.577000</td>\n",
       "      <td>20.903000</td>\n",
       "      <td>2.54500</td>\n",
       "      <td>3271.24800</td>\n",
       "      <td>2.105000</td>\n",
       "      <td>3.384000</td>\n",
       "      <td>2.68200</td>\n",
       "      <td>2.358000</td>\n",
       "      <td>35.54200</td>\n",
       "      <td>2.675000</td>\n",
       "      <td>0.700000</td>\n",
       "    </tr>\n",
       "    <tr>\n",
       "      <th>std</th>\n",
       "      <td>1.257638</td>\n",
       "      <td>12.058814</td>\n",
       "      <td>1.08312</td>\n",
       "      <td>2822.75176</td>\n",
       "      <td>1.580023</td>\n",
       "      <td>1.208306</td>\n",
       "      <td>0.70808</td>\n",
       "      <td>1.050209</td>\n",
       "      <td>11.35267</td>\n",
       "      <td>0.705601</td>\n",
       "      <td>0.458487</td>\n",
       "    </tr>\n",
       "    <tr>\n",
       "      <th>min</th>\n",
       "      <td>1.000000</td>\n",
       "      <td>4.000000</td>\n",
       "      <td>0.00000</td>\n",
       "      <td>250.00000</td>\n",
       "      <td>1.000000</td>\n",
       "      <td>1.000000</td>\n",
       "      <td>1.00000</td>\n",
       "      <td>1.000000</td>\n",
       "      <td>19.00000</td>\n",
       "      <td>1.000000</td>\n",
       "      <td>0.000000</td>\n",
       "    </tr>\n",
       "    <tr>\n",
       "      <th>25%</th>\n",
       "      <td>1.000000</td>\n",
       "      <td>12.000000</td>\n",
       "      <td>2.00000</td>\n",
       "      <td>1365.50000</td>\n",
       "      <td>1.000000</td>\n",
       "      <td>3.000000</td>\n",
       "      <td>2.00000</td>\n",
       "      <td>1.000000</td>\n",
       "      <td>27.00000</td>\n",
       "      <td>3.000000</td>\n",
       "      <td>0.000000</td>\n",
       "    </tr>\n",
       "    <tr>\n",
       "      <th>50%</th>\n",
       "      <td>2.000000</td>\n",
       "      <td>18.000000</td>\n",
       "      <td>2.00000</td>\n",
       "      <td>2319.50000</td>\n",
       "      <td>1.000000</td>\n",
       "      <td>3.000000</td>\n",
       "      <td>3.00000</td>\n",
       "      <td>2.000000</td>\n",
       "      <td>33.00000</td>\n",
       "      <td>3.000000</td>\n",
       "      <td>1.000000</td>\n",
       "    </tr>\n",
       "    <tr>\n",
       "      <th>75%</th>\n",
       "      <td>4.000000</td>\n",
       "      <td>24.000000</td>\n",
       "      <td>4.00000</td>\n",
       "      <td>3972.25000</td>\n",
       "      <td>3.000000</td>\n",
       "      <td>5.000000</td>\n",
       "      <td>3.00000</td>\n",
       "      <td>3.000000</td>\n",
       "      <td>42.00000</td>\n",
       "      <td>3.000000</td>\n",
       "      <td>1.000000</td>\n",
       "    </tr>\n",
       "    <tr>\n",
       "      <th>max</th>\n",
       "      <td>4.000000</td>\n",
       "      <td>72.000000</td>\n",
       "      <td>4.00000</td>\n",
       "      <td>18424.00000</td>\n",
       "      <td>5.000000</td>\n",
       "      <td>5.000000</td>\n",
       "      <td>4.00000</td>\n",
       "      <td>4.000000</td>\n",
       "      <td>75.00000</td>\n",
       "      <td>3.000000</td>\n",
       "      <td>1.000000</td>\n",
       "    </tr>\n",
       "  </tbody>\n",
       "</table>\n",
       "</div>"
      ],
      "text/plain": [
       "       Account Balance  Duration of Credit Mths  \\\n",
       "count      1000.000000              1000.000000   \n",
       "mean          2.577000                20.903000   \n",
       "std           1.257638                12.058814   \n",
       "min           1.000000                 4.000000   \n",
       "25%           1.000000                12.000000   \n",
       "50%           2.000000                18.000000   \n",
       "75%           4.000000                24.000000   \n",
       "max           4.000000                72.000000   \n",
       "\n",
       "       Payment Status of Previous Credit  Credit Amount  \\\n",
       "count                         1000.00000     1000.00000   \n",
       "mean                             2.54500     3271.24800   \n",
       "std                              1.08312     2822.75176   \n",
       "min                              0.00000      250.00000   \n",
       "25%                              2.00000     1365.50000   \n",
       "50%                              2.00000     2319.50000   \n",
       "75%                              4.00000     3972.25000   \n",
       "max                              4.00000    18424.00000   \n",
       "\n",
       "       Value of Savings and Stocks  Length of current employment  \\\n",
       "count                  1000.000000                   1000.000000   \n",
       "mean                      2.105000                      3.384000   \n",
       "std                       1.580023                      1.208306   \n",
       "min                       1.000000                      1.000000   \n",
       "25%                       1.000000                      3.000000   \n",
       "50%                       1.000000                      3.000000   \n",
       "75%                       3.000000                      5.000000   \n",
       "max                       5.000000                      5.000000   \n",
       "\n",
       "       Sex and Marital Status  Most valuable available asset         Age  \\\n",
       "count              1000.00000                    1000.000000  1000.00000   \n",
       "mean                  2.68200                       2.358000    35.54200   \n",
       "std                   0.70808                       1.050209    11.35267   \n",
       "min                   1.00000                       1.000000    19.00000   \n",
       "25%                   2.00000                       1.000000    27.00000   \n",
       "50%                   3.00000                       2.000000    33.00000   \n",
       "75%                   3.00000                       3.000000    42.00000   \n",
       "max                   4.00000                       4.000000    75.00000   \n",
       "\n",
       "       Concurrent Credits  Creditability  \n",
       "count         1000.000000    1000.000000  \n",
       "mean             2.675000       0.700000  \n",
       "std              0.705601       0.458487  \n",
       "min              1.000000       0.000000  \n",
       "25%              3.000000       0.000000  \n",
       "50%              3.000000       1.000000  \n",
       "75%              3.000000       1.000000  \n",
       "max              3.000000       1.000000  "
      ]
     },
     "execution_count": 11,
     "metadata": {},
     "output_type": "execute_result"
    }
   ],
   "source": [
    "df.describe() #normalize Credit amount "
   ]
  },
  {
   "cell_type": "code",
   "execution_count": 12,
   "id": "75874851",
   "metadata": {},
   "outputs": [
    {
     "data": {
      "text/plain": [
       "array([[<AxesSubplot:title={'center':'Account Balance'}>,\n",
       "        <AxesSubplot:title={'center':'Duration of Credit Mths'}>,\n",
       "        <AxesSubplot:title={'center':'Payment Status of Previous Credit'}>],\n",
       "       [<AxesSubplot:title={'center':'Credit Amount'}>,\n",
       "        <AxesSubplot:title={'center':'Value of Savings and Stocks'}>,\n",
       "        <AxesSubplot:title={'center':'Length of current employment'}>],\n",
       "       [<AxesSubplot:title={'center':'Sex and Marital Status'}>,\n",
       "        <AxesSubplot:title={'center':'Most valuable available asset'}>,\n",
       "        <AxesSubplot:title={'center':'Age'}>],\n",
       "       [<AxesSubplot:title={'center':'Concurrent Credits'}>,\n",
       "        <AxesSubplot:title={'center':'Creditability'}>, <AxesSubplot:>]],\n",
       "      dtype=object)"
      ]
     },
     "execution_count": 12,
     "metadata": {},
     "output_type": "execute_result"
    },
    {
     "data": {
      "image/png": "[encoded data removed]",
      "text/plain": [
       "<Figure size 1440x1440 with 12 Axes>"
      ]
     },
     "metadata": {
      "needs_background": "light"
     },
     "output_type": "display_data"
    }
   ],
   "source": [
    "df.hist(figsize=(20,20))"
   ]
  },
  {
   "cell_type": "code",
   "execution_count": 13,
   "id": "54848b88",
   "metadata": {},
   "outputs": [
    {
     "data": {
      "text/plain": [
       "<AxesSubplot:>"
      ]
     },
     "execution_count": 13,
     "metadata": {},
     "output_type": "execute_result"
    },
    {
     "data": {
      "image/png": "[encoded data removed]",
      "text/plain": [
       "<Figure size 2160x1440 with 1 Axes>"
      ]
     },
     "metadata": {
      "needs_background": "light"
     },
     "output_type": "display_data"
    }
   ],
   "source": [
    "df.boxplot(figsize=(30,20))"
   ]
  },
  {
   "cell_type": "code",
   "execution_count": 14,
   "id": "65a5c106",
   "metadata": {},
   "outputs": [],
   "source": [
    "import seaborn as sns"
   ]
  },
  {
   "cell_type": "code",
   "execution_count": 15,
   "id": "3c6d600c",
   "metadata": {},
   "outputs": [
    {
     "data": {
      "text/plain": [
       "<AxesSubplot:>"
      ]
     },
     "execution_count": 15,
     "metadata": {},
     "output_type": "execute_result"
    },
    {
     "data": {
      "image/png": "[encoded data removed]",
      "text/plain": [
       "<Figure size 432x288 with 2 Axes>"
      ]
     },
     "metadata": {
      "needs_background": "light"
     },
     "output_type": "display_data"
    }
   ],
   "source": [
    "sns.heatmap(df.corr()) #related to crediability = good #not related to others = good"
   ]
  },
  {
   "cell_type": "code",
   "execution_count": 16,
   "id": "7574e2d8",
   "metadata": {},
   "outputs": [
    {
     "data": {
      "text/plain": [
       "<seaborn.axisgrid.FacetGrid at 0x204005b5cd0>"
      ]
     },
     "execution_count": 16,
     "metadata": {},
     "output_type": "execute_result"
    },
    {
     "data": {
      "image/png": "[encoded data removed]",
      "text/plain": [
       "<Figure size 360x360 with 1 Axes>"
      ]
     },
     "metadata": {
      "needs_background": "light"
     },
     "output_type": "display_data"
    }
   ],
   "source": [
    "sns.catplot(data=df,x=\"Creditability\",y=\"Length of current employment\") # not much relation"
   ]
  },
  {
   "cell_type": "code",
   "execution_count": 17,
   "id": "d4482bf3",
   "metadata": {},
   "outputs": [
    {
     "data": {
      "text/plain": [
       "<seaborn.axisgrid.FacetGrid at 0x20479b5deb0>"
      ]
     },
     "execution_count": 17,
     "metadata": {},
     "output_type": "execute_result"
    },
    {
     "data": {
      "image/png": "[encoded data removed]",
      "text/plain": [
       "<Figure size 360x360 with 1 Axes>"
      ]
     },
     "metadata": {
      "needs_background": "light"
     },
     "output_type": "display_data"
    }
   ],
   "source": [
    "sns.catplot(data=df,x=\"Creditability\",y=\"Credit Amount\",kind=\"violin\")"
   ]
  },
  {
   "cell_type": "code",
   "execution_count": 18,
   "id": "c5193df7",
   "metadata": {},
   "outputs": [],
   "source": [
    "import matplotlib.pyplot as plt"
   ]
  },
  {
   "cell_type": "code",
   "execution_count": 19,
   "id": "c1f18211",
   "metadata": {},
   "outputs": [
    {
     "data": {
      "text/plain": [
       "Text(0.5, 1.0, 'German Credit')"
      ]
     },
     "execution_count": 19,
     "metadata": {},
     "output_type": "execute_result"
    },
    {
     "data": {
      "image/png": "[encoded data removed]",
      "text/plain": [
       "<Figure size 432x288 with 1 Axes>"
      ]
     },
     "metadata": {
      "needs_background": "light"
     },
     "output_type": "display_data"
    }
   ],
   "source": [
    "plt.scatter(df[\"Creditability\"],df[\"Age\"]) #older = more creditability\n",
    "plt.title(\"German Credit\")"
   ]
  },
  {
   "cell_type": "code",
   "execution_count": 20,
   "id": "17e23b6b",
   "metadata": {},
   "outputs": [
    {
     "data": {
      "text/plain": [
       "1    700\n",
       "0    300\n",
       "Name: Creditability, dtype: int64"
      ]
     },
     "execution_count": 20,
     "metadata": {},
     "output_type": "execute_result"
    }
   ],
   "source": [
    "#imbalance data 700-300\n",
    "df[\"Creditability\"].value_counts()"
   ]
  },
  {
   "cell_type": "code",
   "execution_count": 21,
   "id": "e1b0ac9b",
   "metadata": {},
   "outputs": [],
   "source": [
    "X=df.drop(columns=\"Creditability\")\n",
    "Y=df[\"Creditability\"]"
   ]
  },
  {
   "cell_type": "code",
   "execution_count": 22,
   "id": "bd53c534",
   "metadata": {},
   "outputs": [],
   "source": [
    "from sklearn.model_selection import train_test_split"
   ]
  },
  {
   "cell_type": "code",
   "execution_count": 23,
   "id": "ff471fc8",
   "metadata": {},
   "outputs": [],
   "source": [
    "X_train,X_test,Y_train,Y_test = train_test_split(X,Y,random_state=1)"
   ]
  },
  {
   "cell_type": "code",
   "execution_count": 24,
   "id": "5ff751df",
   "metadata": {},
   "outputs": [
    {
     "data": {
      "text/plain": [
       "1    524\n",
       "0    226\n",
       "Name: Creditability, dtype: int64"
      ]
     },
     "execution_count": 24,
     "metadata": {},
     "output_type": "execute_result"
    }
   ],
   "source": [
    "Y_train.value_counts()"
   ]
  },
  {
   "cell_type": "code",
   "execution_count": 25,
   "id": "506ffc72",
   "metadata": {},
   "outputs": [],
   "source": [
    "from imblearn.over_sampling import SMOTE "
   ]
  },
  {
   "cell_type": "code",
   "execution_count": 26,
   "id": "b552bd8b",
   "metadata": {},
   "outputs": [],
   "source": [
    "X_train,Y_train = SMOTE(random_state=1).fit_resample(X_train,Y_train)"
   ]
  },
  {
   "cell_type": "code",
   "execution_count": 27,
   "id": "e792b800",
   "metadata": {},
   "outputs": [],
   "source": [
    "from scipy import stats"
   ]
  },
  {
   "cell_type": "code",
   "execution_count": 28,
   "id": "002fb38b",
   "metadata": {},
   "outputs": [],
   "source": [
    "X_train[\"Credit Amount\"] = stats.zscore(X_train[\"Credit Amount\"])\n",
    "X_test[\"Credit Amount\"] = stats.zscore(X_test[\"Credit Amount\"])"
   ]
  },
  {
   "cell_type": "code",
   "execution_count": 29,
   "id": "c8b5df14",
   "metadata": {},
   "outputs": [],
   "source": [
    "from sklearn.metrics import confusion_matrix"
   ]
  },
  {
   "cell_type": "code",
   "execution_count": 30,
   "id": "af11bb6b",
   "metadata": {},
   "outputs": [],
   "source": [
    "from sklearn import linear_model"
   ]
  },
  {
   "cell_type": "code",
   "execution_count": 31,
   "id": "66fd2e61",
   "metadata": {},
   "outputs": [],
   "source": [
    "model=linear_model.LogisticRegression(random_state=1)"
   ]
  },
  {
   "cell_type": "code",
   "execution_count": 32,
   "id": "18b62862",
   "metadata": {},
   "outputs": [
    {
     "name": "stdout",
     "output_type": "stream",
     "text": [
      "accuracy is :  0.716\n"
     ]
    },
    {
     "name": "stderr",
     "output_type": "stream",
     "text": [
      "c:\\Users\\loysh\\miniconda3\\lib\\site-packages\\sklearn\\linear_model\\_logistic.py:444: ConvergenceWarning: lbfgs failed to converge (status=1):\n",
      "STOP: TOTAL NO. of ITERATIONS REACHED LIMIT.\n",
      "\n",
      "Increase the number of iterations (max_iter) or scale the data as shown in:\n",
      "    https://scikit-learn.org/stable/modules/preprocessing.html\n",
      "Please also refer to the documentation for alternative solver options:\n",
      "    https://scikit-learn.org/stable/modules/linear_model.html#logistic-regression\n",
      "  n_iter_i = _check_optimize_result(\n"
     ]
    }
   ],
   "source": [
    "model.fit(X_train,Y_train)\n",
    "pred=model.predict(X_test)\n",
    "cm = confusion_matrix(Y_test,pred)\n",
    "print(\"accuracy is : \",(cm[0,0]+cm[1,1])/sum(sum(cm)))"
   ]
  },
  {
   "cell_type": "code",
   "execution_count": 33,
   "id": "26e79611",
   "metadata": {},
   "outputs": [],
   "source": [
    "from sklearn.metrics import plot_precision_recall_curve,plot_roc_curve"
   ]
  },
  {
   "cell_type": "code",
   "execution_count": 34,
   "id": "21638bc5",
   "metadata": {},
   "outputs": [
    {
     "name": "stderr",
     "output_type": "stream",
     "text": [
      "c:\\Users\\loysh\\miniconda3\\lib\\site-packages\\sklearn\\utils\\deprecation.py:87: FutureWarning: Function plot_precision_recall_curve is deprecated; Function `plot_precision_recall_curve` is deprecated in 1.0 and will be removed in 1.2. Use one of the class methods: PrecisionRecallDisplay.from_predictions or PrecisionRecallDisplay.from_estimator.\n",
      "  warnings.warn(msg, category=FutureWarning)\n"
     ]
    },
    {
     "data": {
      "text/plain": [
       "<sklearn.metrics._plot.precision_recall_curve.PrecisionRecallDisplay at 0x20400643e80>"
      ]
     },
     "execution_count": 34,
     "metadata": {},
     "output_type": "execute_result"
    },
    {
     "data": {
      "image/png": "[encoded data removed]",
      "text/plain": [
       "<Figure size 432x288 with 1 Axes>"
      ]
     },
     "metadata": {
      "needs_background": "light"
     },
     "output_type": "display_data"
    }
   ],
   "source": [
    "plot_precision_recall_curve(model,X_test,Y_test)"
   ]
  },
  {
   "cell_type": "code",
   "execution_count": 35,
   "id": "ee5096ab",
   "metadata": {},
   "outputs": [
    {
     "name": "stderr",
     "output_type": "stream",
     "text": [
      "c:\\Users\\loysh\\miniconda3\\lib\\site-packages\\sklearn\\utils\\deprecation.py:87: FutureWarning: Function plot_roc_curve is deprecated; Function :func:`plot_roc_curve` is deprecated in 1.0 and will be removed in 1.2. Use one of the class methods: :meth:`sklearn.metrics.RocCurveDisplay.from_predictions` or :meth:`sklearn.metrics.RocCurveDisplay.from_estimator`.\n",
      "  warnings.warn(msg, category=FutureWarning)\n"
     ]
    },
    {
     "data": {
      "text/plain": [
       "<sklearn.metrics._plot.roc_curve.RocCurveDisplay at 0x204009e5a00>"
      ]
     },
     "execution_count": 35,
     "metadata": {},
     "output_type": "execute_result"
    },
    {
     "data": {
      "image/png": "[encoded data removed]",
      "text/plain": [
       "<Figure size 432x288 with 1 Axes>"
      ]
     },
     "metadata": {
      "needs_background": "light"
     },
     "output_type": "display_data"
    }
   ],
   "source": [
    "plot_roc_curve(model,X_test,Y_test)"
   ]
  },
  {
   "cell_type": "code",
   "execution_count": 36,
   "id": "9b031acb",
   "metadata": {},
   "outputs": [],
   "source": [
    "# Decision Tree\n",
    "from sklearn import tree\n",
    "model = tree.DecisionTreeRegressor(random_state=1)"
   ]
  },
  {
   "cell_type": "code",
   "execution_count": 37,
   "id": "16a7e1e1",
   "metadata": {},
   "outputs": [
    {
     "name": "stdout",
     "output_type": "stream",
     "text": [
      "accuracy is :  0.656\n"
     ]
    }
   ],
   "source": [
    "model.fit(X_train,Y_train)\n",
    "pred=model.predict(X_test)\n",
    "cm = confusion_matrix(Y_test,pred)\n",
    "print(\"accuracy is : \",(cm[0,0]+cm[1,1])/sum(sum(cm)))"
   ]
  },
  {
   "cell_type": "code",
   "execution_count": 38,
   "id": "f7e316d1",
   "metadata": {},
   "outputs": [],
   "source": [
    "from sklearn import ensemble"
   ]
  },
  {
   "cell_type": "code",
   "execution_count": 39,
   "id": "ba6d7e44",
   "metadata": {},
   "outputs": [],
   "source": [
    "model = ensemble.RandomForestClassifier(random_state=1)"
   ]
  },
  {
   "cell_type": "code",
   "execution_count": 40,
   "id": "5a0f28f9",
   "metadata": {},
   "outputs": [
    {
     "name": "stdout",
     "output_type": "stream",
     "text": [
      "accuracy is :  0.736\n"
     ]
    }
   ],
   "source": [
    "model.fit(X_train,Y_train)\n",
    "pred=model.predict(X_test)\n",
    "cm = confusion_matrix(Y_test,pred)\n",
    "print(\"accuracy is : \",(cm[0,0]+cm[1,1])/sum(sum(cm)))"
   ]
  },
  {
   "cell_type": "code",
   "execution_count": 41,
   "id": "9c5b040c",
   "metadata": {},
   "outputs": [
    {
     "name": "stderr",
     "output_type": "stream",
     "text": [
      "c:\\Users\\loysh\\miniconda3\\lib\\site-packages\\sklearn\\utils\\deprecation.py:87: FutureWarning: Function plot_roc_curve is deprecated; Function :func:`plot_roc_curve` is deprecated in 1.0 and will be removed in 1.2. Use one of the class methods: :meth:`sklearn.metrics.RocCurveDisplay.from_predictions` or :meth:`sklearn.metrics.RocCurveDisplay.from_estimator`.\n",
      "  warnings.warn(msg, category=FutureWarning)\n"
     ]
    },
    {
     "data": {
      "text/plain": [
       "<sklearn.metrics._plot.roc_curve.RocCurveDisplay at 0x20400683ee0>"
      ]
     },
     "execution_count": 41,
     "metadata": {},
     "output_type": "execute_result"
    },
    {
     "data": {
      "image/png": "[encoded data removed]",
      "text/plain": [
       "<Figure size 432x288 with 1 Axes>"
      ]
     },
     "metadata": {
      "needs_background": "light"
     },
     "output_type": "display_data"
    }
   ],
   "source": [
    "plot_roc_curve(model,X_test,Y_test)"
   ]
  },
  {
   "cell_type": "code",
   "execution_count": 42,
   "id": "0fa4f468",
   "metadata": {},
   "outputs": [
    {
     "name": "stderr",
     "output_type": "stream",
     "text": [
      "c:\\Users\\loysh\\miniconda3\\lib\\site-packages\\sklearn\\utils\\deprecation.py:87: FutureWarning: Function plot_precision_recall_curve is deprecated; Function `plot_precision_recall_curve` is deprecated in 1.0 and will be removed in 1.2. Use one of the class methods: PrecisionRecallDisplay.from_predictions or PrecisionRecallDisplay.from_estimator.\n",
      "  warnings.warn(msg, category=FutureWarning)\n"
     ]
    },
    {
     "data": {
      "text/plain": [
       "<sklearn.metrics._plot.precision_recall_curve.PrecisionRecallDisplay at 0x204012143a0>"
      ]
     },
     "execution_count": 42,
     "metadata": {},
     "output_type": "execute_result"
    },
    {
     "data": {
      "image/png": "[encoded data removed]",
      "text/plain": [
       "<Figure size 432x288 with 1 Axes>"
      ]
     },
     "metadata": {
      "needs_background": "light"
     },
     "output_type": "display_data"
    }
   ],
   "source": [
    "plot_precision_recall_curve(model,X_test,Y_test)"
   ]
  },
  {
   "cell_type": "code",
   "execution_count": 43,
   "id": "0c5a1a9e",
   "metadata": {},
   "outputs": [],
   "source": [
    "#Random\n",
    "from sklearn import ensemble\n",
    "model = ensemble.RandomForestClassifier(random_state=1)"
   ]
  },
  {
   "cell_type": "code",
   "execution_count": 44,
   "id": "73039be6",
   "metadata": {},
   "outputs": [
    {
     "name": "stdout",
     "output_type": "stream",
     "text": [
      "accuracy is :  0.736\n"
     ]
    }
   ],
   "source": [
    "model.fit(X_train,Y_train)\n",
    "pred=model.predict(X_test)\n",
    "cm = confusion_matrix(Y_test,pred)\n",
    "print(\"accuracy is : \",(cm[0,0]+cm[1,1])/sum(sum(cm)))"
   ]
  },
  {
   "cell_type": "code",
   "execution_count": 45,
   "id": "d0aa4533",
   "metadata": {},
   "outputs": [],
   "source": [
    "#Gradient Boosting\n",
    "model=ensemble.GradientBoostingClassifier(random_state=1)"
   ]
  },
  {
   "cell_type": "code",
   "execution_count": 47,
   "id": "d04947a6",
   "metadata": {},
   "outputs": [
    {
     "name": "stdout",
     "output_type": "stream",
     "text": [
      "accuracy is :  0.708\n"
     ]
    }
   ],
   "source": [
    "model.fit(X_train,Y_train)\n",
    "pred=model.predict(X_test)\n",
    "cm = confusion_matrix(Y_test,pred)\n",
    "print(\"accuracy is : \",(cm[0,0]+cm[1,1])/sum(sum(cm)))"
   ]
  },
  {
   "cell_type": "code",
   "execution_count": 48,
   "id": "3b70c914",
   "metadata": {},
   "outputs": [],
   "source": [
    "#Neural Network\n",
    "from sklearn import neural_network\n",
    "model = neural_network.MLPClassifier(random_state=1)"
   ]
  },
  {
   "cell_type": "code",
   "execution_count": 49,
   "id": "21a17772",
   "metadata": {},
   "outputs": [
    {
     "name": "stdout",
     "output_type": "stream",
     "text": [
      "accuracy is :  0.768\n"
     ]
    },
    {
     "name": "stderr",
     "output_type": "stream",
     "text": [
      "c:\\Users\\loysh\\miniconda3\\lib\\site-packages\\sklearn\\neural_network\\_multilayer_perceptron.py:702: ConvergenceWarning: Stochastic Optimizer: Maximum iterations (200) reached and the optimization hasn't converged yet.\n",
      "  warnings.warn(\n"
     ]
    }
   ],
   "source": [
    "model.fit(X_train,Y_train)\n",
    "pred=model.predict(X_test)\n",
    "cm = confusion_matrix(Y_test,pred)\n",
    "print(\"accuracy is : \",(cm[0,0]+cm[1,1])/sum(sum(cm)))"
   ]
  },
  {
   "cell_type": "code",
   "execution_count": 52,
   "id": "4982c499",
   "metadata": {},
   "outputs": [],
   "source": [
    "from keras.models import Sequential"
   ]
  },
  {
   "cell_type": "code",
   "execution_count": 53,
   "id": "631e918a",
   "metadata": {},
   "outputs": [],
   "source": [
    "from keras.layers import Dense,Dropout"
   ]
  },
  {
   "cell_type": "code",
   "execution_count": 56,
   "id": "565e8571",
   "metadata": {},
   "outputs": [],
   "source": [
    "#random state\n",
    "\n",
    "import random\n",
    "random.seed(1)\n",
    "\n",
    "import numpy as np #numpy depends on random\n",
    "np.random.seed(1)\n",
    "\n",
    "import tensorflow as tf #tensor dependson numpy\n",
    "tf.random.set_seed(1)\n"
   ]
  },
  {
   "cell_type": "code",
   "execution_count": 57,
   "id": "db8fef3a",
   "metadata": {},
   "outputs": [],
   "source": [
    "model = Sequential()"
   ]
  },
  {
   "cell_type": "code",
   "execution_count": 61,
   "id": "861be329",
   "metadata": {},
   "outputs": [],
   "source": [
    "#first layer\n",
    "model.add(Dense(8,input_dim=10,activation = \"relu\")) #8 neurons for 2nd layer \n",
    "model.add(Dropout(0.1)) # Outof8neuronsDrop1 neuron randomly per epoch. #regularization for generalized(more useful) solution\n"
   ]
  },
  {
   "cell_type": "code",
   "execution_count": 62,
   "id": "6e696892",
   "metadata": {},
   "outputs": [],
   "source": [
    "#second layer\n",
    "model.add(Dense(8,activation = \"relu\")) # neurons for 2nd layer \n",
    "model.add(Dropout(0.1)) # Outof8neuronsDrop1 neuron randomly per epoch. #regularization for generalized(more useful) solution\n"
   ]
  },
  {
   "cell_type": "code",
   "execution_count": 63,
   "id": "d1be2918",
   "metadata": {},
   "outputs": [],
   "source": [
    "#output layer\n",
    "model.add(Dense(1,activation = \"sigmoid\")) #for 2 category, 1 or 0 only or model.add(Dense(2,activation=\"softmax\"))\n",
    "\n",
    "#model.add(Dense(n,activation=\"softmax\")) # for n category.\n"
   ]
  },
  {
   "cell_type": "code",
   "execution_count": 65,
   "id": "39d0a411",
   "metadata": {},
   "outputs": [],
   "source": [
    "model.compile(loss=\"binary_crossentropy\",optimizer=\"adam\",metrics=[\"accuracy\"]) #loss is during epoch #metrics measures cost at the end of epoch\n",
    "#dont use accuracy when false negative and false positive is not symmetrical\n",
    "#optimzer is adaptive learning rate , learning rate depends via momentum(adam optimzer formula).\n"
   ]
  },
  {
   "cell_type": "code",
   "execution_count": 67,
   "id": "be8fc097",
   "metadata": {},
   "outputs": [
    {
     "name": "stdout",
     "output_type": "stream",
     "text": [
      "Epoch 1/100\n",
      "210/210 [==============================] - 1s 2ms/step - loss: 0.9779 - accuracy: 0.5210\n",
      "Epoch 2/100\n",
      "210/210 [==============================] - 0s 2ms/step - loss: 0.7102 - accuracy: 0.5496\n",
      "Epoch 3/100\n",
      "210/210 [==============================] - 0s 2ms/step - loss: 0.6946 - accuracy: 0.5611\n",
      "Epoch 4/100\n",
      "210/210 [==============================] - 0s 2ms/step - loss: 0.6881 - accuracy: 0.5525\n",
      "Epoch 5/100\n",
      "210/210 [==============================] - 0s 2ms/step - loss: 0.6731 - accuracy: 0.5639\n",
      "Epoch 6/100\n",
      "210/210 [==============================] - 0s 2ms/step - loss: 0.6745 - accuracy: 0.5763\n",
      "Epoch 7/100\n",
      "210/210 [==============================] - 0s 2ms/step - loss: 0.6549 - accuracy: 0.6011\n",
      "Epoch 8/100\n",
      "210/210 [==============================] - 0s 2ms/step - loss: 0.6318 - accuracy: 0.6508\n",
      "Epoch 9/100\n",
      "210/210 [==============================] - 0s 2ms/step - loss: 0.6115 - accuracy: 0.6670\n",
      "Epoch 10/100\n",
      "210/210 [==============================] - 0s 2ms/step - loss: 0.6162 - accuracy: 0.6565\n",
      "Epoch 11/100\n",
      "210/210 [==============================] - 0s 2ms/step - loss: 0.5946 - accuracy: 0.6889\n",
      "Epoch 12/100\n",
      "210/210 [==============================] - 0s 2ms/step - loss: 0.6108 - accuracy: 0.6708\n",
      "Epoch 13/100\n",
      "210/210 [==============================] - 0s 2ms/step - loss: 0.5829 - accuracy: 0.6908\n",
      "Epoch 14/100\n",
      "210/210 [==============================] - 1s 2ms/step - loss: 0.5815 - accuracy: 0.6851\n",
      "Epoch 15/100\n",
      "210/210 [==============================] - 0s 2ms/step - loss: 0.5864 - accuracy: 0.6889\n",
      "Epoch 16/100\n",
      "210/210 [==============================] - 0s 2ms/step - loss: 0.5836 - accuracy: 0.6861\n",
      "Epoch 17/100\n",
      "210/210 [==============================] - 0s 2ms/step - loss: 0.5863 - accuracy: 0.6737\n",
      "Epoch 18/100\n",
      "210/210 [==============================] - 0s 2ms/step - loss: 0.5866 - accuracy: 0.7004\n",
      "Epoch 19/100\n",
      "210/210 [==============================] - 0s 2ms/step - loss: 0.5808 - accuracy: 0.7004\n",
      "Epoch 20/100\n",
      "210/210 [==============================] - 0s 2ms/step - loss: 0.5711 - accuracy: 0.7023\n",
      "Epoch 21/100\n",
      "210/210 [==============================] - 0s 2ms/step - loss: 0.5631 - accuracy: 0.7147\n",
      "Epoch 22/100\n",
      "210/210 [==============================] - 0s 2ms/step - loss: 0.5714 - accuracy: 0.7090\n",
      "Epoch 23/100\n",
      "210/210 [==============================] - 0s 2ms/step - loss: 0.5730 - accuracy: 0.7204\n",
      "Epoch 24/100\n",
      "210/210 [==============================] - 0s 2ms/step - loss: 0.5762 - accuracy: 0.7013\n",
      "Epoch 25/100\n",
      "210/210 [==============================] - 0s 2ms/step - loss: 0.5643 - accuracy: 0.7204\n",
      "Epoch 26/100\n",
      "210/210 [==============================] - 0s 2ms/step - loss: 0.5625 - accuracy: 0.7176\n",
      "Epoch 27/100\n",
      "210/210 [==============================] - 0s 2ms/step - loss: 0.5619 - accuracy: 0.7137\n",
      "Epoch 28/100\n",
      "210/210 [==============================] - 0s 2ms/step - loss: 0.5672 - accuracy: 0.6994\n",
      "Epoch 29/100\n",
      "210/210 [==============================] - 0s 2ms/step - loss: 0.5729 - accuracy: 0.6784\n",
      "Epoch 30/100\n",
      "210/210 [==============================] - 0s 2ms/step - loss: 0.5525 - accuracy: 0.7080\n",
      "Epoch 31/100\n",
      "210/210 [==============================] - 0s 2ms/step - loss: 0.5649 - accuracy: 0.7137\n",
      "Epoch 32/100\n",
      "210/210 [==============================] - 0s 2ms/step - loss: 0.5643 - accuracy: 0.7156\n",
      "Epoch 33/100\n",
      "210/210 [==============================] - 0s 2ms/step - loss: 0.5593 - accuracy: 0.7128\n",
      "Epoch 34/100\n",
      "210/210 [==============================] - 0s 2ms/step - loss: 0.5482 - accuracy: 0.7204\n",
      "Epoch 35/100\n",
      "210/210 [==============================] - 0s 2ms/step - loss: 0.5546 - accuracy: 0.7204\n",
      "Epoch 36/100\n",
      "210/210 [==============================] - 0s 2ms/step - loss: 0.5623 - accuracy: 0.7195\n",
      "Epoch 37/100\n",
      "210/210 [==============================] - 0s 2ms/step - loss: 0.5450 - accuracy: 0.7147\n",
      "Epoch 38/100\n",
      "210/210 [==============================] - 0s 2ms/step - loss: 0.5587 - accuracy: 0.7118\n",
      "Epoch 39/100\n",
      "210/210 [==============================] - 0s 2ms/step - loss: 0.5511 - accuracy: 0.7204\n",
      "Epoch 40/100\n",
      "210/210 [==============================] - 0s 2ms/step - loss: 0.5500 - accuracy: 0.7223\n",
      "Epoch 41/100\n",
      "210/210 [==============================] - 0s 2ms/step - loss: 0.5427 - accuracy: 0.7233\n",
      "Epoch 42/100\n",
      "210/210 [==============================] - 0s 2ms/step - loss: 0.5559 - accuracy: 0.7109\n",
      "Epoch 43/100\n",
      "210/210 [==============================] - 0s 2ms/step - loss: 0.5495 - accuracy: 0.7204\n",
      "Epoch 44/100\n",
      "210/210 [==============================] - 0s 2ms/step - loss: 0.5459 - accuracy: 0.7328\n",
      "Epoch 45/100\n",
      "210/210 [==============================] - 0s 2ms/step - loss: 0.5385 - accuracy: 0.7233\n",
      "Epoch 46/100\n",
      "210/210 [==============================] - 0s 2ms/step - loss: 0.5370 - accuracy: 0.7366\n",
      "Epoch 47/100\n",
      "210/210 [==============================] - 0s 2ms/step - loss: 0.5391 - accuracy: 0.7261\n",
      "Epoch 48/100\n",
      "210/210 [==============================] - 0s 2ms/step - loss: 0.5432 - accuracy: 0.7252\n",
      "Epoch 49/100\n",
      "210/210 [==============================] - 0s 2ms/step - loss: 0.5365 - accuracy: 0.7309\n",
      "Epoch 50/100\n",
      "210/210 [==============================] - 0s 2ms/step - loss: 0.5486 - accuracy: 0.7195\n",
      "Epoch 51/100\n",
      "210/210 [==============================] - 0s 2ms/step - loss: 0.5267 - accuracy: 0.7452\n",
      "Epoch 52/100\n",
      "210/210 [==============================] - 0s 2ms/step - loss: 0.5435 - accuracy: 0.7328\n",
      "Epoch 53/100\n",
      "210/210 [==============================] - 0s 2ms/step - loss: 0.5397 - accuracy: 0.7252\n",
      "Epoch 54/100\n",
      "210/210 [==============================] - 0s 2ms/step - loss: 0.5323 - accuracy: 0.7385\n",
      "Epoch 55/100\n",
      "210/210 [==============================] - 0s 2ms/step - loss: 0.5261 - accuracy: 0.7481\n",
      "Epoch 56/100\n",
      "210/210 [==============================] - 0s 2ms/step - loss: 0.5284 - accuracy: 0.7424\n",
      "Epoch 57/100\n",
      "210/210 [==============================] - 0s 2ms/step - loss: 0.5391 - accuracy: 0.7347\n",
      "Epoch 58/100\n",
      "210/210 [==============================] - 0s 2ms/step - loss: 0.5292 - accuracy: 0.7347\n",
      "Epoch 59/100\n",
      "210/210 [==============================] - 0s 2ms/step - loss: 0.5381 - accuracy: 0.7443\n",
      "Epoch 60/100\n",
      "210/210 [==============================] - 0s 2ms/step - loss: 0.5267 - accuracy: 0.7471\n",
      "Epoch 61/100\n",
      "210/210 [==============================] - 0s 2ms/step - loss: 0.5396 - accuracy: 0.7357\n",
      "Epoch 62/100\n",
      "210/210 [==============================] - 0s 2ms/step - loss: 0.5163 - accuracy: 0.7443\n",
      "Epoch 63/100\n",
      "210/210 [==============================] - 0s 2ms/step - loss: 0.5208 - accuracy: 0.7433\n",
      "Epoch 64/100\n",
      "210/210 [==============================] - 0s 2ms/step - loss: 0.5246 - accuracy: 0.7462\n",
      "Epoch 65/100\n",
      "210/210 [==============================] - 0s 2ms/step - loss: 0.5196 - accuracy: 0.7510\n",
      "Epoch 66/100\n",
      "210/210 [==============================] - 0s 2ms/step - loss: 0.5281 - accuracy: 0.7414\n",
      "Epoch 67/100\n",
      "210/210 [==============================] - 0s 2ms/step - loss: 0.5226 - accuracy: 0.7443\n",
      "Epoch 68/100\n",
      "210/210 [==============================] - 0s 2ms/step - loss: 0.5186 - accuracy: 0.7519\n",
      "Epoch 69/100\n",
      "210/210 [==============================] - 0s 2ms/step - loss: 0.5256 - accuracy: 0.7376\n",
      "Epoch 70/100\n",
      "210/210 [==============================] - 0s 2ms/step - loss: 0.5317 - accuracy: 0.7424\n",
      "Epoch 71/100\n",
      "210/210 [==============================] - 0s 2ms/step - loss: 0.5273 - accuracy: 0.7443\n",
      "Epoch 72/100\n",
      "210/210 [==============================] - 0s 2ms/step - loss: 0.5310 - accuracy: 0.7376\n",
      "Epoch 73/100\n",
      "210/210 [==============================] - 0s 2ms/step - loss: 0.5236 - accuracy: 0.7414\n",
      "Epoch 74/100\n",
      "210/210 [==============================] - 0s 2ms/step - loss: 0.5098 - accuracy: 0.7576\n",
      "Epoch 75/100\n",
      "210/210 [==============================] - 0s 2ms/step - loss: 0.5282 - accuracy: 0.7385\n",
      "Epoch 76/100\n",
      "210/210 [==============================] - 0s 2ms/step - loss: 0.5276 - accuracy: 0.7471\n",
      "Epoch 77/100\n",
      "210/210 [==============================] - 0s 2ms/step - loss: 0.5161 - accuracy: 0.7490\n",
      "Epoch 78/100\n",
      "210/210 [==============================] - 0s 2ms/step - loss: 0.5167 - accuracy: 0.7615\n",
      "Epoch 79/100\n",
      "210/210 [==============================] - 0s 2ms/step - loss: 0.5179 - accuracy: 0.7557\n",
      "Epoch 80/100\n",
      "210/210 [==============================] - 0s 2ms/step - loss: 0.5206 - accuracy: 0.7548\n",
      "Epoch 81/100\n",
      "210/210 [==============================] - 0s 2ms/step - loss: 0.5128 - accuracy: 0.7557\n",
      "Epoch 82/100\n",
      "210/210 [==============================] - 0s 2ms/step - loss: 0.5143 - accuracy: 0.7605\n",
      "Epoch 83/100\n",
      "210/210 [==============================] - 0s 2ms/step - loss: 0.5100 - accuracy: 0.7529\n",
      "Epoch 84/100\n",
      "210/210 [==============================] - 0s 2ms/step - loss: 0.5162 - accuracy: 0.7538\n",
      "Epoch 85/100\n",
      "210/210 [==============================] - 0s 2ms/step - loss: 0.5253 - accuracy: 0.7481\n",
      "Epoch 86/100\n",
      "210/210 [==============================] - 0s 2ms/step - loss: 0.5224 - accuracy: 0.7462\n",
      "Epoch 87/100\n",
      "210/210 [==============================] - 0s 2ms/step - loss: 0.5179 - accuracy: 0.7405\n",
      "Epoch 88/100\n",
      "210/210 [==============================] - 0s 2ms/step - loss: 0.5052 - accuracy: 0.7691\n",
      "Epoch 89/100\n",
      "210/210 [==============================] - 0s 2ms/step - loss: 0.5084 - accuracy: 0.7595\n",
      "Epoch 90/100\n",
      "210/210 [==============================] - 0s 2ms/step - loss: 0.5178 - accuracy: 0.7567\n",
      "Epoch 91/100\n",
      "210/210 [==============================] - 0s 2ms/step - loss: 0.5123 - accuracy: 0.7624\n",
      "Epoch 92/100\n",
      "210/210 [==============================] - 0s 2ms/step - loss: 0.5144 - accuracy: 0.7538\n",
      "Epoch 93/100\n",
      "210/210 [==============================] - 0s 2ms/step - loss: 0.5043 - accuracy: 0.7777\n",
      "Epoch 94/100\n",
      "210/210 [==============================] - 0s 2ms/step - loss: 0.5181 - accuracy: 0.7481\n",
      "Epoch 95/100\n",
      "210/210 [==============================] - 0s 2ms/step - loss: 0.5141 - accuracy: 0.7452\n",
      "Epoch 96/100\n",
      "210/210 [==============================] - 1s 3ms/step - loss: 0.5088 - accuracy: 0.7729\n",
      "Epoch 97/100\n",
      "210/210 [==============================] - 1s 3ms/step - loss: 0.5105 - accuracy: 0.7490\n",
      "Epoch 98/100\n",
      "210/210 [==============================] - 0s 2ms/step - loss: 0.4996 - accuracy: 0.7624\n",
      "Epoch 99/100\n",
      "210/210 [==============================] - 0s 2ms/step - loss: 0.5067 - accuracy: 0.7672\n",
      "Epoch 100/100\n",
      "210/210 [==============================] - 0s 2ms/step - loss: 0.5080 - accuracy: 0.7653\n"
     ]
    }
   ],
   "source": [
    "b = 5\n",
    "h = model.fit(X_train,Y_train,batch_size=b,epochs=100)"
   ]
  },
  {
   "cell_type": "code",
   "execution_count": 69,
   "id": "237610de",
   "metadata": {},
   "outputs": [
    {
     "data": {
      "text/plain": [
       "Text(0.5, 1.0, 'Accuracy')"
      ]
     },
     "execution_count": 69,
     "metadata": {},
     "output_type": "execute_result"
    },
    {
     "data": {
      "image/png": "[encoded data removed]",
      "text/plain": [
       "<Figure size 432x288 with 1 Axes>"
      ]
     },
     "metadata": {
      "needs_background": "light"
     },
     "output_type": "display_data"
    }
   ],
   "source": [
    "plt.plot(h.history[\"accuracy\"])\n",
    "plt.title(\"Accuracy\") #right tail must be >80"
   ]
  },
  {
   "cell_type": "code",
   "execution_count": 70,
   "id": "71aaf46a",
   "metadata": {},
   "outputs": [
    {
     "data": {
      "text/plain": [
       "Text(0.5, 1.0, 'Loss')"
      ]
     },
     "execution_count": 70,
     "metadata": {},
     "output_type": "execute_result"
    },
    {
     "data": {
      "image/png": "[encoded data removed]",
      "text/plain": [
       "<Figure size 432x288 with 1 Axes>"
      ]
     },
     "metadata": {
      "needs_background": "light"
     },
     "output_type": "display_data"
    }
   ],
   "source": [
    "plt.plot(h.history[\"loss\"])\n",
    "plt.title(\"Loss\")"
   ]
  },
  {
   "cell_type": "code",
   "execution_count": 76,
   "id": "16062f7b",
   "metadata": {},
   "outputs": [
    {
     "name": "stdout",
     "output_type": "stream",
     "text": [
      "8/8 [==============================] - 0s 2ms/step\n"
     ]
    },
    {
     "data": {
      "text/plain": [
       "array([[1],\n",
       "       [0],\n",
       "       [0],\n",
       "       [0],\n",
       "       [1],\n",
       "       [0],\n",
       "       [0],\n",
       "       [0],\n",
       "       [1],\n",
       "       [0],\n",
       "       [1],\n",
       "       [0],\n",
       "       [0],\n",
       "       [1],\n",
       "       [0],\n",
       "       [1],\n",
       "       [1],\n",
       "       [1],\n",
       "       [0],\n",
       "       [1],\n",
       "       [0],\n",
       "       [1],\n",
       "       [0],\n",
       "       [1],\n",
       "       [1],\n",
       "       [1],\n",
       "       [0],\n",
       "       [1],\n",
       "       [0],\n",
       "       [1],\n",
       "       [0],\n",
       "       [0],\n",
       "       [1],\n",
       "       [1],\n",
       "       [0],\n",
       "       [1],\n",
       "       [0],\n",
       "       [0],\n",
       "       [1],\n",
       "       [0],\n",
       "       [0],\n",
       "       [0],\n",
       "       [0],\n",
       "       [0],\n",
       "       [0],\n",
       "       [0],\n",
       "       [1],\n",
       "       [0],\n",
       "       [0],\n",
       "       [0],\n",
       "       [1],\n",
       "       [0],\n",
       "       [0],\n",
       "       [1],\n",
       "       [1],\n",
       "       [0],\n",
       "       [0],\n",
       "       [1],\n",
       "       [0],\n",
       "       [1],\n",
       "       [1],\n",
       "       [1],\n",
       "       [0],\n",
       "       [0],\n",
       "       [0],\n",
       "       [1],\n",
       "       [0],\n",
       "       [1],\n",
       "       [1],\n",
       "       [0],\n",
       "       [1],\n",
       "       [0],\n",
       "       [0],\n",
       "       [0],\n",
       "       [0],\n",
       "       [1],\n",
       "       [0],\n",
       "       [1],\n",
       "       [1],\n",
       "       [0],\n",
       "       [1],\n",
       "       [0],\n",
       "       [0],\n",
       "       [0],\n",
       "       [1],\n",
       "       [0],\n",
       "       [0],\n",
       "       [0],\n",
       "       [0],\n",
       "       [0],\n",
       "       [0],\n",
       "       [0],\n",
       "       [0],\n",
       "       [0],\n",
       "       [1],\n",
       "       [0],\n",
       "       [1],\n",
       "       [0],\n",
       "       [1],\n",
       "       [0],\n",
       "       [0],\n",
       "       [0],\n",
       "       [1],\n",
       "       [0],\n",
       "       [0],\n",
       "       [0],\n",
       "       [1],\n",
       "       [1],\n",
       "       [1],\n",
       "       [0],\n",
       "       [0],\n",
       "       [1],\n",
       "       [0],\n",
       "       [1],\n",
       "       [0],\n",
       "       [1],\n",
       "       [0],\n",
       "       [1],\n",
       "       [0],\n",
       "       [0],\n",
       "       [1],\n",
       "       [1],\n",
       "       [1],\n",
       "       [1],\n",
       "       [1],\n",
       "       [1],\n",
       "       [0],\n",
       "       [0],\n",
       "       [1],\n",
       "       [1],\n",
       "       [1],\n",
       "       [0],\n",
       "       [1],\n",
       "       [0],\n",
       "       [1],\n",
       "       [0],\n",
       "       [0],\n",
       "       [0],\n",
       "       [1],\n",
       "       [0],\n",
       "       [1],\n",
       "       [1],\n",
       "       [0],\n",
       "       [0],\n",
       "       [1],\n",
       "       [1],\n",
       "       [0],\n",
       "       [0],\n",
       "       [1],\n",
       "       [1],\n",
       "       [1],\n",
       "       [0],\n",
       "       [0],\n",
       "       [0],\n",
       "       [1],\n",
       "       [0],\n",
       "       [1],\n",
       "       [1],\n",
       "       [1],\n",
       "       [1],\n",
       "       [1],\n",
       "       [0],\n",
       "       [0],\n",
       "       [0],\n",
       "       [0],\n",
       "       [1],\n",
       "       [1],\n",
       "       [0],\n",
       "       [0],\n",
       "       [1],\n",
       "       [0],\n",
       "       [1],\n",
       "       [1],\n",
       "       [1],\n",
       "       [0],\n",
       "       [0],\n",
       "       [1],\n",
       "       [0],\n",
       "       [0],\n",
       "       [0],\n",
       "       [1],\n",
       "       [1],\n",
       "       [0],\n",
       "       [0],\n",
       "       [1],\n",
       "       [1],\n",
       "       [1],\n",
       "       [1],\n",
       "       [0],\n",
       "       [0],\n",
       "       [0],\n",
       "       [0],\n",
       "       [0],\n",
       "       [0],\n",
       "       [1],\n",
       "       [1],\n",
       "       [0],\n",
       "       [0],\n",
       "       [0],\n",
       "       [0],\n",
       "       [0],\n",
       "       [0],\n",
       "       [0],\n",
       "       [1],\n",
       "       [0],\n",
       "       [1],\n",
       "       [1],\n",
       "       [0],\n",
       "       [1],\n",
       "       [0],\n",
       "       [1],\n",
       "       [1],\n",
       "       [0],\n",
       "       [1],\n",
       "       [0],\n",
       "       [1],\n",
       "       [1],\n",
       "       [1],\n",
       "       [0],\n",
       "       [1],\n",
       "       [0],\n",
       "       [1],\n",
       "       [0],\n",
       "       [0],\n",
       "       [0],\n",
       "       [0],\n",
       "       [0],\n",
       "       [1],\n",
       "       [0],\n",
       "       [0],\n",
       "       [0],\n",
       "       [1],\n",
       "       [0],\n",
       "       [0],\n",
       "       [0],\n",
       "       [0],\n",
       "       [1],\n",
       "       [0],\n",
       "       [1],\n",
       "       [1],\n",
       "       [0],\n",
       "       [0],\n",
       "       [1],\n",
       "       [0],\n",
       "       [0],\n",
       "       [1],\n",
       "       [0],\n",
       "       [0],\n",
       "       [1],\n",
       "       [1]])"
      ]
     },
     "execution_count": 76,
     "metadata": {},
     "output_type": "execute_result"
    }
   ],
   "source": [
    "#Binary Pred\n",
    "pred = model.predict(X_test)\n",
    "pred = pred>0.5\n",
    "pred = pred.astype('int32')\n",
    "pred"
   ]
  },
  {
   "cell_type": "code",
   "execution_count": 77,
   "id": "f453a546",
   "metadata": {},
   "outputs": [
    {
     "data": {
      "text/plain": [
       "array([[62, 12],\n",
       "       [80, 96]], dtype=int64)"
      ]
     },
     "execution_count": 77,
     "metadata": {},
     "output_type": "execute_result"
    }
   ],
   "source": [
    "cm = confusion_matrix(Y_test,pred)\n",
    "cm"
   ]
  },
  {
   "cell_type": "code",
   "execution_count": 80,
   "id": "336b9b47",
   "metadata": {},
   "outputs": [
    {
     "name": "stdout",
     "output_type": "stream",
     "text": [
      "accuracy is :  0.632\n"
     ]
    }
   ],
   "source": [
    "print(\"accuracy is : \",(cm[0,0]+cm[1,1])/sum(sum(cm)))"
   ]
  },
  {
   "cell_type": "code",
   "execution_count": 81,
   "id": "337cb401",
   "metadata": {},
   "outputs": [
    {
     "data": {
      "text/plain": [
       "<AxesSubplot:>"
      ]
     },
     "execution_count": 81,
     "metadata": {},
     "output_type": "execute_result"
    },
    {
     "data": {
      "image/png": "[encoded data removed]",
      "text/plain": [
       "<Figure size 432x288 with 2 Axes>"
      ]
     },
     "metadata": {
      "needs_background": "light"
     },
     "output_type": "display_data"
    }
   ],
   "source": [
    "import seaborn as sns\n",
    "sns.heatmap(cm, annot=True)"
   ]
  },
  {
   "cell_type": "code",
   "execution_count": 46,
   "id": "5b9e9258",
   "metadata": {},
   "outputs": [],
   "source": [
    "from sklearn.cluster import KMeans"
   ]
  },
  {
   "cell_type": "code",
   "execution_count": 47,
   "id": "d1068b23",
   "metadata": {},
   "outputs": [
    {
     "name": "stderr",
     "output_type": "stream",
     "text": [
      "c:\\Users\\loysh\\miniconda3\\lib\\site-packages\\sklearn\\cluster\\_kmeans.py:1334: UserWarning: KMeans is known to have a memory leak on Windows with MKL, when there are less chunks than available threads. You can avoid it by setting the environment variable OMP_NUM_THREADS=4.\n",
      "  warnings.warn(\n"
     ]
    },
    {
     "name": "stdout",
     "output_type": "stream",
     "text": [
      "accuracy :  0.329\n"
     ]
    }
   ],
   "source": [
    "model = KMeans(n_clusters=2).fit(X) \n",
    "pred = model.predict(X) #no y in clustering because no label\n",
    "cm = confusion_matrix(Y,pred)\n",
    "print(\"accuracy : \", (cm[0,0]+cm[1,1])/(sum(sum(cm))))"
   ]
  },
  {
   "cell_type": "code",
   "execution_count": 48,
   "id": "67c6ca9a",
   "metadata": {},
   "outputs": [
    {
     "name": "stderr",
     "output_type": "stream",
     "text": [
      "c:\\Users\\loysh\\miniconda3\\lib\\site-packages\\sklearn\\cluster\\_kmeans.py:1334: UserWarning: KMeans is known to have a memory leak on Windows with MKL, when there are less chunks than available threads. You can avoid it by setting the environment variable OMP_NUM_THREADS=4.\n",
      "  warnings.warn(\n",
      "c:\\Users\\loysh\\miniconda3\\lib\\site-packages\\sklearn\\cluster\\_kmeans.py:1334: UserWarning: KMeans is known to have a memory leak on Windows with MKL, when there are less chunks than available threads. You can avoid it by setting the environment variable OMP_NUM_THREADS=4.\n",
      "  warnings.warn(\n",
      "c:\\Users\\loysh\\miniconda3\\lib\\site-packages\\sklearn\\cluster\\_kmeans.py:1334: UserWarning: KMeans is known to have a memory leak on Windows with MKL, when there are less chunks than available threads. You can avoid it by setting the environment variable OMP_NUM_THREADS=4.\n",
      "  warnings.warn(\n",
      "c:\\Users\\loysh\\miniconda3\\lib\\site-packages\\sklearn\\cluster\\_kmeans.py:1334: UserWarning: KMeans is known to have a memory leak on Windows with MKL, when there are less chunks than available threads. You can avoid it by setting the environment variable OMP_NUM_THREADS=4.\n",
      "  warnings.warn(\n",
      "c:\\Users\\loysh\\miniconda3\\lib\\site-packages\\sklearn\\cluster\\_kmeans.py:1334: UserWarning: KMeans is known to have a memory leak on Windows with MKL, when there are less chunks than available threads. You can avoid it by setting the environment variable OMP_NUM_THREADS=4.\n",
      "  warnings.warn(\n",
      "c:\\Users\\loysh\\miniconda3\\lib\\site-packages\\sklearn\\cluster\\_kmeans.py:1334: UserWarning: KMeans is known to have a memory leak on Windows with MKL, when there are less chunks than available threads. You can avoid it by setting the environment variable OMP_NUM_THREADS=4.\n",
      "  warnings.warn(\n",
      "c:\\Users\\loysh\\miniconda3\\lib\\site-packages\\sklearn\\cluster\\_kmeans.py:1334: UserWarning: KMeans is known to have a memory leak on Windows with MKL, when there are less chunks than available threads. You can avoid it by setting the environment variable OMP_NUM_THREADS=4.\n",
      "  warnings.warn(\n",
      "c:\\Users\\loysh\\miniconda3\\lib\\site-packages\\sklearn\\cluster\\_kmeans.py:1334: UserWarning: KMeans is known to have a memory leak on Windows with MKL, when there are less chunks than available threads. You can avoid it by setting the environment variable OMP_NUM_THREADS=4.\n",
      "  warnings.warn(\n"
     ]
    },
    {
     "data": {
      "image/png": "[encoded data removed]",
      "text/plain": [
       "<Figure size 576x396 with 2 Axes>"
      ]
     },
     "metadata": {},
     "output_type": "display_data"
    },
    {
     "data": {
      "text/plain": [
       "<AxesSubplot:title={'center':'Distortion Score Elbow for KMeans Clustering'}, xlabel='k', ylabel='distortion score'>"
      ]
     },
     "execution_count": 48,
     "metadata": {},
     "output_type": "execute_result"
    }
   ],
   "source": [
    "from yellowbrick.cluster import KElbowVisualizer\n",
    "v = KElbowVisualizer(model,k=(2,10)) # (2,10) -> cluster bbetween 2 to 10\n",
    "v.fit(X)\n",
    "v.show()"
   ]
  },
  {
   "cell_type": "markdown",
   "id": "d48da644",
   "metadata": {},
   "source": [
    "## Manual Elbow Method\n",
    "## WCSS against Number of Cluster"
   ]
  },
  {
   "cell_type": "code",
   "execution_count": 49,
   "id": "5176bd36",
   "metadata": {},
   "outputs": [
    {
     "name": "stderr",
     "output_type": "stream",
     "text": [
      "c:\\Users\\loysh\\miniconda3\\lib\\site-packages\\sklearn\\cluster\\_kmeans.py:1334: UserWarning: KMeans is known to have a memory leak on Windows with MKL, when there are less chunks than available threads. You can avoid it by setting the environment variable OMP_NUM_THREADS=4.\n",
      "  warnings.warn(\n",
      "c:\\Users\\loysh\\miniconda3\\lib\\site-packages\\sklearn\\cluster\\_kmeans.py:1334: UserWarning: KMeans is known to have a memory leak on Windows with MKL, when there are less chunks than available threads. You can avoid it by setting the environment variable OMP_NUM_THREADS=4.\n",
      "  warnings.warn(\n",
      "c:\\Users\\loysh\\miniconda3\\lib\\site-packages\\sklearn\\cluster\\_kmeans.py:1334: UserWarning: KMeans is known to have a memory leak on Windows with MKL, when there are less chunks than available threads. You can avoid it by setting the environment variable OMP_NUM_THREADS=4.\n",
      "  warnings.warn(\n",
      "c:\\Users\\loysh\\miniconda3\\lib\\site-packages\\sklearn\\cluster\\_kmeans.py:1334: UserWarning: KMeans is known to have a memory leak on Windows with MKL, when there are less chunks than available threads. You can avoid it by setting the environment variable OMP_NUM_THREADS=4.\n",
      "  warnings.warn(\n",
      "c:\\Users\\loysh\\miniconda3\\lib\\site-packages\\sklearn\\cluster\\_kmeans.py:1334: UserWarning: KMeans is known to have a memory leak on Windows with MKL, when there are less chunks than available threads. You can avoid it by setting the environment variable OMP_NUM_THREADS=4.\n",
      "  warnings.warn(\n",
      "c:\\Users\\loysh\\miniconda3\\lib\\site-packages\\sklearn\\cluster\\_kmeans.py:1334: UserWarning: KMeans is known to have a memory leak on Windows with MKL, when there are less chunks than available threads. You can avoid it by setting the environment variable OMP_NUM_THREADS=4.\n",
      "  warnings.warn(\n",
      "c:\\Users\\loysh\\miniconda3\\lib\\site-packages\\sklearn\\cluster\\_kmeans.py:1334: UserWarning: KMeans is known to have a memory leak on Windows with MKL, when there are less chunks than available threads. You can avoid it by setting the environment variable OMP_NUM_THREADS=4.\n",
      "  warnings.warn(\n"
     ]
    },
    {
     "data": {
      "text/plain": [
       "[7960242398.975002,\n",
       " 2405508708.3756876,\n",
       " 1278226639.6096358,\n",
       " 649916335.015636,\n",
       " 467976999.469751,\n",
       " 317770174.5944182,\n",
       " 232725489.03077468]"
      ]
     },
     "execution_count": 49,
     "metadata": {},
     "output_type": "execute_result"
    }
   ],
   "source": [
    "# WCSS = within cluster sum of squares\n",
    "wcss = []\n",
    "for i in range(1,8):\n",
    "    kmeans= KMeans(i) #kmeans models , 1 cluster to 7 clusters\n",
    "    kmeans.fit(X) \n",
    "    wcss_iter= kmeans.inertia_\n",
    "    wcss.append(wcss_iter)\n",
    "wcss"
   ]
  },
  {
   "cell_type": "code",
   "execution_count": 50,
   "id": "7bff76fd",
   "metadata": {},
   "outputs": [
    {
     "data": {
      "text/plain": [
       "Text(0, 0.5, 'Within Cluster Sum of Squares')"
      ]
     },
     "execution_count": 50,
     "metadata": {},
     "output_type": "execute_result"
    },
    {
     "data": {
      "image/png": "[encoded data removed]",
      "text/plain": [
       "<Figure size 576x396 with 1 Axes>"
      ]
     },
     "metadata": {},
     "output_type": "display_data"
    }
   ],
   "source": [
    "number_cluster=range(1,8)\n",
    "plt.plot(number_cluster,wcss)\n",
    "plt.title('Elbow Method')\n",
    "plt.xlabel('Number of Clusters')\n",
    "plt.ylabel('Within Cluster Sum of Squares')"
   ]
  },
  {
   "cell_type": "markdown",
   "id": "c9effd60",
   "metadata": {},
   "source": [
    "### Both Yellowbrick and Manual Elbow method conclude that 4 is optimal number of clusters\n",
    "#### Why is the advise far from our actual classification which is 2 only?\n",
    "\n",
    "Elbow method works as the *Within cluster sum of squares* (WCSS) goes down as the number of cluster goes up.\n",
    "Therefore elbow method tries to plot the WCSS against number of cluster.\n",
    "The optimal point will be when the decrease in WCSS becomes much less significant past the elbow flexion point.\n",
    "In this case it would be at number of clusters  = 4.\n",
    "\n",
    "Therefore this is different from the actual classification which is 2 : default/no default. \n",
    "Because the actual classification is based off the the two possible Y outcomes of defaulting wheras the optimal number of clusters is based off the elbow method which only takes in X variables.\n",
    "\n"
   ]
  }
 ],
 "metadata": {
  "kernelspec": {
   "display_name": "Python 3 (ipykernel)",
   "language": "python",
   "name": "python3"
  },
  "language_info": {
   "codemirror_mode": {
    "name": "ipython",
    "version": 3
   },
   "file_extension": ".py",
   "mimetype": "text/x-python",
   "name": "python",
   "nbconvert_exporter": "python",
   "pygments_lexer": "ipython3",
   "version": "3.8.5"
  }
 },
 "nbformat": 4,
 "nbformat_minor": 5
}
